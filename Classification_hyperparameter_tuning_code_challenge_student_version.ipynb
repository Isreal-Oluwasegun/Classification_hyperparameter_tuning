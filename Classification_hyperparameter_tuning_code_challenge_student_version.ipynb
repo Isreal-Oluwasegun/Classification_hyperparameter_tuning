{
  "cells": [
    {
      "cell_type": "markdown",
      "metadata": {
        "id": "view-in-github",
        "colab_type": "text"
      },
      "source": [
        "<a href=\"https://colab.research.google.com/github/Isreal-Oluwasegun/Classification_hyperparameter_tuning/blob/main/Classification_hyperparameter_tuning_code_challenge_student_version.ipynb\" target=\"_parent\"><img src=\"https://colab.research.google.com/assets/colab-badge.svg\" alt=\"Open In Colab\"/></a>"
      ]
    },
    {
      "cell_type": "markdown",
      "id": "I6L11lkI0RQZ",
      "metadata": {
        "id": "I6L11lkI0RQZ"
      },
      "source": [
        "<div align=\"center\" style=\" font-size: 80%; text-align: center; margin: 0 auto\">\n",
        "<img src=\"https://raw.githubusercontent.com/Explore-AI/Pictures/master/Python-Notebook-Banners/Code_challenge.png\"  style=\"display: block; margin-left: auto; margin-right: auto;\";/>\n",
        "</div>"
      ]
    },
    {
      "cell_type": "markdown",
      "id": "f662d169",
      "metadata": {
        "id": "f662d169"
      },
      "source": [
        "# Code challenge: Classification - hyperparameter tuning\n",
        "© ExploreAI Academy"
      ]
    },
    {
      "cell_type": "markdown",
      "id": "26af890c",
      "metadata": {
        "id": "26af890c"
      },
      "source": [
        "In this train, we'll tackle a classification problem by tuning hyperparameters, using techniques like grid search to optimise model performance."
      ]
    },
    {
      "cell_type": "markdown",
      "id": "2d230d14",
      "metadata": {
        "id": "2d230d14",
        "tags": []
      },
      "source": [
        "## Learning objectives\n",
        "\n",
        "By the end of this train, you should be able to:\n",
        "- Apply hyperparameter tuning to improve a classification model.\n",
        "- Evaluate model performance with tuned hyperparameters."
      ]
    },
    {
      "cell_type": "markdown",
      "id": "e0c49012",
      "metadata": {
        "id": "e0c49012"
      },
      "source": [
        "## Instructions to students\n",
        "\n",
        "- **Do not add or remove cells in this notebook. Do not edit or remove the `### START FUNCTION` or `### END FUNCTION` comments. Do not add any code outside of the functions you are required to edit. Doing any of this will lead to a mark of 0%!**\n",
        "- Answer the questions according to the specifications provided.\n",
        "- Use the given cell in each question to see if your function matches the expected outputs.\n",
        "- Do not hard-code answers to the questions.\n",
        "- The use of Stack Overflow, Google, and other online tools are permitted. However, copying fellow student's code is not permissible and is considered a breach of the Honour code below. Doing this will result in a mark of 0%.\n",
        "- Good luck, and may the force be with you!"
      ]
    },
    {
      "cell_type": "markdown",
      "id": "63e6293e",
      "metadata": {
        "id": "63e6293e"
      },
      "source": [
        "## Honour Code\n",
        "\n",
        "I **YOUR NAME**, **YOUR SURNAME**, confirm - by submitting this document - that the solutions in this notebook are a result of my own work and that I abide by the EDSA honour code (https://drive.google.com/file/d/1QDCjGZJ8-FmJE3bZdIQNwnJyQKPhHZBn/view?usp=sharing).\n",
        "\n",
        "Non-compliance with the honour code constitutes a material breach of contract."
      ]
    },
    {
      "cell_type": "markdown",
      "id": "e4f17e44",
      "metadata": {
        "id": "e4f17e44"
      },
      "source": [
        "## Overview\n",
        "\n",
        "Hyperparameters have a direct impact on the performance and predictions made by machine learning models. Within this coding challenge, we will strengthen our ability to produce appropriate classification solutions by extending a base model with tuned hyperparameters.\n",
        "\n",
        "<br></br>\n",
        "\n",
        "<div align=\"center\" style=\"width: 600px; font-size: 80%; text-align: center; margin: 0 auto\">\n",
        "<img src=\"https://raw.githubusercontent.com/Explore-AI/Pictures/master/wine.jpg\"\n",
        "     alt=\"Some fine wine for your fine model\"\n",
        "     style=\"float: center; padding-bottom=0.5em\"\n",
        "     width=600px/>\n",
        "Some fine wine for your fine modelling process.\n",
        "Photo by <a href=\"https://unsplash.com/@hermez777?utm_source=unsplash&utm_medium=referral&utm_content=creditCopyText\"> Hermes Rivera</a> on Unsplash\n",
        "</div>\n",
        "\n",
        "The structure of this notebook is as follows:\n",
        "\n",
        " - First, we'll load our data to get a view of the predictor and response variables we will be modelling.\n",
        " - We'll then preprocess our data, binarising the target variable and splitting up the data into train and test sets.\n",
        " - We then model our data using a Support Vector Classifier.\n",
        " - Following this modelling, we define a custom metric as the log-loss in order to evaluate our produced model.\n",
        " - Using this metric, we then take several steps to improve our base model's performance by optimising the hyperparameters of the SVC through a grid search strategy."
      ]
    },
    {
      "cell_type": "markdown",
      "id": "d5e543f7",
      "metadata": {
        "id": "d5e543f7"
      },
      "source": [
        "## Imports\n",
        "\n",
        "Let's go ahead and load the usual suspects"
      ]
    },
    {
      "cell_type": "code",
      "execution_count": null,
      "id": "0bf461fb",
      "metadata": {
        "id": "0bf461fb"
      },
      "outputs": [],
      "source": [
        "import numpy as np\n",
        "import pandas as pd\n",
        "from matplotlib import pyplot as plt\n",
        "import seaborn as sns\n",
        "\n",
        "from sklearn import preprocessing\n",
        "from sklearn.model_selection import train_test_split\n",
        "from sklearn.metrics import accuracy_score\n",
        "from sklearn.metrics import confusion_matrix\n",
        "\n",
        "from sklearn.model_selection import GridSearchCV\n",
        "from sklearn.svm import SVC"
      ]
    },
    {
      "cell_type": "markdown",
      "id": "219a8d5a",
      "metadata": {
        "id": "219a8d5a"
      },
      "source": [
        "## The dataset\n",
        "\n",
        "For this coding challenge we'll be using the [Wine Quality dataset](https://archive.ics.uci.edu/ml/datasets/wine+quality) from the UCI Machine Learning Repository. The constituents of this dataset are red and white variants of the Portuguese \"Vinho Verde\" wine.\n",
        "\n",
        "This dataset consists of the following variables:\n",
        "\n",
        " - fixed acidity\n",
        " - volatile acidity\n",
        " - citric acid\n",
        " - residual sugar\n",
        " - chlorides\n",
        " - free sulfur dioxide\n",
        " - total sulfur dioxide\n",
        " - density\n",
        " - pH\n",
        " - sulphates\n",
        " - alcohol\n",
        " - quality (score between 0 and 10)"
      ]
    },
    {
      "cell_type": "markdown",
      "id": "59fa0bf2",
      "metadata": {
        "id": "59fa0bf2"
      },
      "source": [
        "### Reading in the data\n",
        "\n",
        "\n",
        "**Note** the feature we will be predicting is quality, i.e. the label is 'quality' using classification."
      ]
    },
    {
      "cell_type": "code",
      "execution_count": null,
      "id": "d80ad1b3",
      "metadata": {
        "colab": {
          "base_uri": "https://localhost:8080/",
          "height": 223
        },
        "id": "d80ad1b3",
        "outputId": "3c105416-4812-4817-ebee-847b82b00c94"
      },
      "outputs": [
        {
          "output_type": "execute_result",
          "data": {
            "text/plain": [
              "   type  fixed acidity  volatile acidity  citric acid  residual sugar  \\\n",
              "0     0            7.0              0.27         0.36            20.7   \n",
              "1     0            6.3              0.30         0.34             1.6   \n",
              "2     0            8.1              0.28         0.40             6.9   \n",
              "3     0            7.2              0.23         0.32             8.5   \n",
              "4     0            7.2              0.23         0.32             8.5   \n",
              "\n",
              "   chlorides  free sulfur dioxide  total sulfur dioxide  density    pH  \\\n",
              "0      0.045                 45.0                 170.0   1.0010  3.00   \n",
              "1      0.049                 14.0                 132.0   0.9940  3.30   \n",
              "2      0.050                 30.0                  97.0   0.9951  3.26   \n",
              "3      0.058                 47.0                 186.0   0.9956  3.19   \n",
              "4      0.058                 47.0                 186.0   0.9956  3.19   \n",
              "\n",
              "   sulphates  alcohol  quality  \n",
              "0       0.45      8.8        6  \n",
              "1       0.49      9.5        6  \n",
              "2       0.44     10.1        6  \n",
              "3       0.40      9.9        6  \n",
              "4       0.40      9.9        6  "
            ],
            "text/html": [
              "\n",
              "  <div id=\"df-ab0f2421-b199-4983-9c92-392433da3d18\" class=\"colab-df-container\">\n",
              "    <div>\n",
              "<style scoped>\n",
              "    .dataframe tbody tr th:only-of-type {\n",
              "        vertical-align: middle;\n",
              "    }\n",
              "\n",
              "    .dataframe tbody tr th {\n",
              "        vertical-align: top;\n",
              "    }\n",
              "\n",
              "    .dataframe thead th {\n",
              "        text-align: right;\n",
              "    }\n",
              "</style>\n",
              "<table border=\"1\" class=\"dataframe\">\n",
              "  <thead>\n",
              "    <tr style=\"text-align: right;\">\n",
              "      <th></th>\n",
              "      <th>type</th>\n",
              "      <th>fixed acidity</th>\n",
              "      <th>volatile acidity</th>\n",
              "      <th>citric acid</th>\n",
              "      <th>residual sugar</th>\n",
              "      <th>chlorides</th>\n",
              "      <th>free sulfur dioxide</th>\n",
              "      <th>total sulfur dioxide</th>\n",
              "      <th>density</th>\n",
              "      <th>pH</th>\n",
              "      <th>sulphates</th>\n",
              "      <th>alcohol</th>\n",
              "      <th>quality</th>\n",
              "    </tr>\n",
              "  </thead>\n",
              "  <tbody>\n",
              "    <tr>\n",
              "      <th>0</th>\n",
              "      <td>0</td>\n",
              "      <td>7.0</td>\n",
              "      <td>0.27</td>\n",
              "      <td>0.36</td>\n",
              "      <td>20.7</td>\n",
              "      <td>0.045</td>\n",
              "      <td>45.0</td>\n",
              "      <td>170.0</td>\n",
              "      <td>1.0010</td>\n",
              "      <td>3.00</td>\n",
              "      <td>0.45</td>\n",
              "      <td>8.8</td>\n",
              "      <td>6</td>\n",
              "    </tr>\n",
              "    <tr>\n",
              "      <th>1</th>\n",
              "      <td>0</td>\n",
              "      <td>6.3</td>\n",
              "      <td>0.30</td>\n",
              "      <td>0.34</td>\n",
              "      <td>1.6</td>\n",
              "      <td>0.049</td>\n",
              "      <td>14.0</td>\n",
              "      <td>132.0</td>\n",
              "      <td>0.9940</td>\n",
              "      <td>3.30</td>\n",
              "      <td>0.49</td>\n",
              "      <td>9.5</td>\n",
              "      <td>6</td>\n",
              "    </tr>\n",
              "    <tr>\n",
              "      <th>2</th>\n",
              "      <td>0</td>\n",
              "      <td>8.1</td>\n",
              "      <td>0.28</td>\n",
              "      <td>0.40</td>\n",
              "      <td>6.9</td>\n",
              "      <td>0.050</td>\n",
              "      <td>30.0</td>\n",
              "      <td>97.0</td>\n",
              "      <td>0.9951</td>\n",
              "      <td>3.26</td>\n",
              "      <td>0.44</td>\n",
              "      <td>10.1</td>\n",
              "      <td>6</td>\n",
              "    </tr>\n",
              "    <tr>\n",
              "      <th>3</th>\n",
              "      <td>0</td>\n",
              "      <td>7.2</td>\n",
              "      <td>0.23</td>\n",
              "      <td>0.32</td>\n",
              "      <td>8.5</td>\n",
              "      <td>0.058</td>\n",
              "      <td>47.0</td>\n",
              "      <td>186.0</td>\n",
              "      <td>0.9956</td>\n",
              "      <td>3.19</td>\n",
              "      <td>0.40</td>\n",
              "      <td>9.9</td>\n",
              "      <td>6</td>\n",
              "    </tr>\n",
              "    <tr>\n",
              "      <th>4</th>\n",
              "      <td>0</td>\n",
              "      <td>7.2</td>\n",
              "      <td>0.23</td>\n",
              "      <td>0.32</td>\n",
              "      <td>8.5</td>\n",
              "      <td>0.058</td>\n",
              "      <td>47.0</td>\n",
              "      <td>186.0</td>\n",
              "      <td>0.9956</td>\n",
              "      <td>3.19</td>\n",
              "      <td>0.40</td>\n",
              "      <td>9.9</td>\n",
              "      <td>6</td>\n",
              "    </tr>\n",
              "  </tbody>\n",
              "</table>\n",
              "</div>\n",
              "    <div class=\"colab-df-buttons\">\n",
              "\n",
              "  <div class=\"colab-df-container\">\n",
              "    <button class=\"colab-df-convert\" onclick=\"convertToInteractive('df-ab0f2421-b199-4983-9c92-392433da3d18')\"\n",
              "            title=\"Convert this dataframe to an interactive table.\"\n",
              "            style=\"display:none;\">\n",
              "\n",
              "  <svg xmlns=\"http://www.w3.org/2000/svg\" height=\"24px\" viewBox=\"0 -960 960 960\">\n",
              "    <path d=\"M120-120v-720h720v720H120Zm60-500h600v-160H180v160Zm220 220h160v-160H400v160Zm0 220h160v-160H400v160ZM180-400h160v-160H180v160Zm440 0h160v-160H620v160ZM180-180h160v-160H180v160Zm440 0h160v-160H620v160Z\"/>\n",
              "  </svg>\n",
              "    </button>\n",
              "\n",
              "  <style>\n",
              "    .colab-df-container {\n",
              "      display:flex;\n",
              "      gap: 12px;\n",
              "    }\n",
              "\n",
              "    .colab-df-convert {\n",
              "      background-color: #E8F0FE;\n",
              "      border: none;\n",
              "      border-radius: 50%;\n",
              "      cursor: pointer;\n",
              "      display: none;\n",
              "      fill: #1967D2;\n",
              "      height: 32px;\n",
              "      padding: 0 0 0 0;\n",
              "      width: 32px;\n",
              "    }\n",
              "\n",
              "    .colab-df-convert:hover {\n",
              "      background-color: #E2EBFA;\n",
              "      box-shadow: 0px 1px 2px rgba(60, 64, 67, 0.3), 0px 1px 3px 1px rgba(60, 64, 67, 0.15);\n",
              "      fill: #174EA6;\n",
              "    }\n",
              "\n",
              "    .colab-df-buttons div {\n",
              "      margin-bottom: 4px;\n",
              "    }\n",
              "\n",
              "    [theme=dark] .colab-df-convert {\n",
              "      background-color: #3B4455;\n",
              "      fill: #D2E3FC;\n",
              "    }\n",
              "\n",
              "    [theme=dark] .colab-df-convert:hover {\n",
              "      background-color: #434B5C;\n",
              "      box-shadow: 0px 1px 3px 1px rgba(0, 0, 0, 0.15);\n",
              "      filter: drop-shadow(0px 1px 2px rgba(0, 0, 0, 0.3));\n",
              "      fill: #FFFFFF;\n",
              "    }\n",
              "  </style>\n",
              "\n",
              "    <script>\n",
              "      const buttonEl =\n",
              "        document.querySelector('#df-ab0f2421-b199-4983-9c92-392433da3d18 button.colab-df-convert');\n",
              "      buttonEl.style.display =\n",
              "        google.colab.kernel.accessAllowed ? 'block' : 'none';\n",
              "\n",
              "      async function convertToInteractive(key) {\n",
              "        const element = document.querySelector('#df-ab0f2421-b199-4983-9c92-392433da3d18');\n",
              "        const dataTable =\n",
              "          await google.colab.kernel.invokeFunction('convertToInteractive',\n",
              "                                                    [key], {});\n",
              "        if (!dataTable) return;\n",
              "\n",
              "        const docLinkHtml = 'Like what you see? Visit the ' +\n",
              "          '<a target=\"_blank\" href=https://colab.research.google.com/notebooks/data_table.ipynb>data table notebook</a>'\n",
              "          + ' to learn more about interactive tables.';\n",
              "        element.innerHTML = '';\n",
              "        dataTable['output_type'] = 'display_data';\n",
              "        await google.colab.output.renderOutput(dataTable, element);\n",
              "        const docLink = document.createElement('div');\n",
              "        docLink.innerHTML = docLinkHtml;\n",
              "        element.appendChild(docLink);\n",
              "      }\n",
              "    </script>\n",
              "  </div>\n",
              "\n",
              "\n",
              "<div id=\"df-1ecd8385-b195-4d95-82b0-8bdd22eea655\">\n",
              "  <button class=\"colab-df-quickchart\" onclick=\"quickchart('df-1ecd8385-b195-4d95-82b0-8bdd22eea655')\"\n",
              "            title=\"Suggest charts\"\n",
              "            style=\"display:none;\">\n",
              "\n",
              "<svg xmlns=\"http://www.w3.org/2000/svg\" height=\"24px\"viewBox=\"0 0 24 24\"\n",
              "     width=\"24px\">\n",
              "    <g>\n",
              "        <path d=\"M19 3H5c-1.1 0-2 .9-2 2v14c0 1.1.9 2 2 2h14c1.1 0 2-.9 2-2V5c0-1.1-.9-2-2-2zM9 17H7v-7h2v7zm4 0h-2V7h2v10zm4 0h-2v-4h2v4z\"/>\n",
              "    </g>\n",
              "</svg>\n",
              "  </button>\n",
              "\n",
              "<style>\n",
              "  .colab-df-quickchart {\n",
              "      --bg-color: #E8F0FE;\n",
              "      --fill-color: #1967D2;\n",
              "      --hover-bg-color: #E2EBFA;\n",
              "      --hover-fill-color: #174EA6;\n",
              "      --disabled-fill-color: #AAA;\n",
              "      --disabled-bg-color: #DDD;\n",
              "  }\n",
              "\n",
              "  [theme=dark] .colab-df-quickchart {\n",
              "      --bg-color: #3B4455;\n",
              "      --fill-color: #D2E3FC;\n",
              "      --hover-bg-color: #434B5C;\n",
              "      --hover-fill-color: #FFFFFF;\n",
              "      --disabled-bg-color: #3B4455;\n",
              "      --disabled-fill-color: #666;\n",
              "  }\n",
              "\n",
              "  .colab-df-quickchart {\n",
              "    background-color: var(--bg-color);\n",
              "    border: none;\n",
              "    border-radius: 50%;\n",
              "    cursor: pointer;\n",
              "    display: none;\n",
              "    fill: var(--fill-color);\n",
              "    height: 32px;\n",
              "    padding: 0;\n",
              "    width: 32px;\n",
              "  }\n",
              "\n",
              "  .colab-df-quickchart:hover {\n",
              "    background-color: var(--hover-bg-color);\n",
              "    box-shadow: 0 1px 2px rgba(60, 64, 67, 0.3), 0 1px 3px 1px rgba(60, 64, 67, 0.15);\n",
              "    fill: var(--button-hover-fill-color);\n",
              "  }\n",
              "\n",
              "  .colab-df-quickchart-complete:disabled,\n",
              "  .colab-df-quickchart-complete:disabled:hover {\n",
              "    background-color: var(--disabled-bg-color);\n",
              "    fill: var(--disabled-fill-color);\n",
              "    box-shadow: none;\n",
              "  }\n",
              "\n",
              "  .colab-df-spinner {\n",
              "    border: 2px solid var(--fill-color);\n",
              "    border-color: transparent;\n",
              "    border-bottom-color: var(--fill-color);\n",
              "    animation:\n",
              "      spin 1s steps(1) infinite;\n",
              "  }\n",
              "\n",
              "  @keyframes spin {\n",
              "    0% {\n",
              "      border-color: transparent;\n",
              "      border-bottom-color: var(--fill-color);\n",
              "      border-left-color: var(--fill-color);\n",
              "    }\n",
              "    20% {\n",
              "      border-color: transparent;\n",
              "      border-left-color: var(--fill-color);\n",
              "      border-top-color: var(--fill-color);\n",
              "    }\n",
              "    30% {\n",
              "      border-color: transparent;\n",
              "      border-left-color: var(--fill-color);\n",
              "      border-top-color: var(--fill-color);\n",
              "      border-right-color: var(--fill-color);\n",
              "    }\n",
              "    40% {\n",
              "      border-color: transparent;\n",
              "      border-right-color: var(--fill-color);\n",
              "      border-top-color: var(--fill-color);\n",
              "    }\n",
              "    60% {\n",
              "      border-color: transparent;\n",
              "      border-right-color: var(--fill-color);\n",
              "    }\n",
              "    80% {\n",
              "      border-color: transparent;\n",
              "      border-right-color: var(--fill-color);\n",
              "      border-bottom-color: var(--fill-color);\n",
              "    }\n",
              "    90% {\n",
              "      border-color: transparent;\n",
              "      border-bottom-color: var(--fill-color);\n",
              "    }\n",
              "  }\n",
              "</style>\n",
              "\n",
              "  <script>\n",
              "    async function quickchart(key) {\n",
              "      const quickchartButtonEl =\n",
              "        document.querySelector('#' + key + ' button');\n",
              "      quickchartButtonEl.disabled = true;  // To prevent multiple clicks.\n",
              "      quickchartButtonEl.classList.add('colab-df-spinner');\n",
              "      try {\n",
              "        const charts = await google.colab.kernel.invokeFunction(\n",
              "            'suggestCharts', [key], {});\n",
              "      } catch (error) {\n",
              "        console.error('Error during call to suggestCharts:', error);\n",
              "      }\n",
              "      quickchartButtonEl.classList.remove('colab-df-spinner');\n",
              "      quickchartButtonEl.classList.add('colab-df-quickchart-complete');\n",
              "    }\n",
              "    (() => {\n",
              "      let quickchartButtonEl =\n",
              "        document.querySelector('#df-1ecd8385-b195-4d95-82b0-8bdd22eea655 button');\n",
              "      quickchartButtonEl.style.display =\n",
              "        google.colab.kernel.accessAllowed ? 'block' : 'none';\n",
              "    })();\n",
              "  </script>\n",
              "</div>\n",
              "\n",
              "    </div>\n",
              "  </div>\n"
            ],
            "application/vnd.google.colaboratory.intrinsic+json": {
              "type": "dataframe",
              "variable_name": "df",
              "summary": "{\n  \"name\": \"df\",\n  \"rows\": 6497,\n  \"fields\": [\n    {\n      \"column\": \"type\",\n      \"properties\": {\n        \"dtype\": \"number\",\n        \"std\": 0,\n        \"min\": 0,\n        \"max\": 1,\n        \"num_unique_values\": 2,\n        \"samples\": [\n          1,\n          0\n        ],\n        \"semantic_type\": \"\",\n        \"description\": \"\"\n      }\n    },\n    {\n      \"column\": \"fixed acidity\",\n      \"properties\": {\n        \"dtype\": \"number\",\n        \"std\": 1.2967498565264803,\n        \"min\": 3.8,\n        \"max\": 15.9,\n        \"num_unique_values\": 106,\n        \"samples\": [\n          14.3,\n          6.5\n        ],\n        \"semantic_type\": \"\",\n        \"description\": \"\"\n      }\n    },\n    {\n      \"column\": \"volatile acidity\",\n      \"properties\": {\n        \"dtype\": \"number\",\n        \"std\": 0.16464902864429293,\n        \"min\": 0.08,\n        \"max\": 1.58,\n        \"num_unique_values\": 187,\n        \"samples\": [\n          0.895,\n          0.655\n        ],\n        \"semantic_type\": \"\",\n        \"description\": \"\"\n      }\n    },\n    {\n      \"column\": \"citric acid\",\n      \"properties\": {\n        \"dtype\": \"number\",\n        \"std\": 0.14526480053397803,\n        \"min\": 0.0,\n        \"max\": 1.66,\n        \"num_unique_values\": 89,\n        \"samples\": [\n          0.45,\n          0.51\n        ],\n        \"semantic_type\": \"\",\n        \"description\": \"\"\n      }\n    },\n    {\n      \"column\": \"residual sugar\",\n      \"properties\": {\n        \"dtype\": \"number\",\n        \"std\": 4.758124742672707,\n        \"min\": 0.6,\n        \"max\": 65.8,\n        \"num_unique_values\": 316,\n        \"samples\": [\n          14.7,\n          4.9\n        ],\n        \"semantic_type\": \"\",\n        \"description\": \"\"\n      }\n    },\n    {\n      \"column\": \"chlorides\",\n      \"properties\": {\n        \"dtype\": \"number\",\n        \"std\": 0.03503602522758969,\n        \"min\": 0.009,\n        \"max\": 0.611,\n        \"num_unique_values\": 214,\n        \"samples\": [\n          0.046,\n          0.387\n        ],\n        \"semantic_type\": \"\",\n        \"description\": \"\"\n      }\n    },\n    {\n      \"column\": \"free sulfur dioxide\",\n      \"properties\": {\n        \"dtype\": \"number\",\n        \"std\": 17.749399772002565,\n        \"min\": 1.0,\n        \"max\": 289.0,\n        \"num_unique_values\": 135,\n        \"samples\": [\n          146.5,\n          64.5\n        ],\n        \"semantic_type\": \"\",\n        \"description\": \"\"\n      }\n    },\n    {\n      \"column\": \"total sulfur dioxide\",\n      \"properties\": {\n        \"dtype\": \"number\",\n        \"std\": 56.52185452263032,\n        \"min\": 6.0,\n        \"max\": 440.0,\n        \"num_unique_values\": 276,\n        \"samples\": [\n          158.0,\n          194.0\n        ],\n        \"semantic_type\": \"\",\n        \"description\": \"\"\n      }\n    },\n    {\n      \"column\": \"density\",\n      \"properties\": {\n        \"dtype\": \"number\",\n        \"std\": 0.002998673003719037,\n        \"min\": 0.98711,\n        \"max\": 1.03898,\n        \"num_unique_values\": 998,\n        \"samples\": [\n          0.99144,\n          0.99734\n        ],\n        \"semantic_type\": \"\",\n        \"description\": \"\"\n      }\n    },\n    {\n      \"column\": \"pH\",\n      \"properties\": {\n        \"dtype\": \"number\",\n        \"std\": 0.16074830655088293,\n        \"min\": 2.72,\n        \"max\": 4.01,\n        \"num_unique_values\": 108,\n        \"samples\": [\n          2.74,\n          3.25\n        ],\n        \"semantic_type\": \"\",\n        \"description\": \"\"\n      }\n    },\n    {\n      \"column\": \"sulphates\",\n      \"properties\": {\n        \"dtype\": \"number\",\n        \"std\": 0.14881412131628308,\n        \"min\": 0.22,\n        \"max\": 2.0,\n        \"num_unique_values\": 111,\n        \"samples\": [\n          1.08,\n          0.55\n        ],\n        \"semantic_type\": \"\",\n        \"description\": \"\"\n      }\n    },\n    {\n      \"column\": \"alcohol\",\n      \"properties\": {\n        \"dtype\": \"number\",\n        \"std\": 1.1927117488689747,\n        \"min\": 8.0,\n        \"max\": 14.9,\n        \"num_unique_values\": 111,\n        \"samples\": [\n          12.33333333,\n          11.4\n        ],\n        \"semantic_type\": \"\",\n        \"description\": \"\"\n      }\n    },\n    {\n      \"column\": \"quality\",\n      \"properties\": {\n        \"dtype\": \"number\",\n        \"std\": 0,\n        \"min\": 3,\n        \"max\": 9,\n        \"num_unique_values\": 7,\n        \"samples\": [\n          6,\n          5\n        ],\n        \"semantic_type\": \"\",\n        \"description\": \"\"\n      }\n    }\n  ]\n}"
            }
          },
          "metadata": {},
          "execution_count": 21
        }
      ],
      "source": [
        "df = pd.read_csv('https://raw.githubusercontent.com/Explore-AI/Public-Data/master/Data/classification_sprint/winequality.csv')\n",
        "df.head()"
      ]
    },
    {
      "cell_type": "markdown",
      "id": "e2c4bfe2",
      "metadata": {
        "id": "e2c4bfe2"
      },
      "source": [
        "## Question 1 - Data preprocessing\n",
        "\n",
        "We would like to classify the wine according to it's quality using binary classification.\n",
        "Write a function to preprocess the data so we can run it through the classifier. The function should:\n",
        "\n",
        "* Convert the quality for lower quality wines (quality less than or equal to 4) to 0\n",
        "* Convert the quality for higher quality wines (quality greater than or equal to 5) to 1\n",
        "* Split the data into 75% training and 25% testing data\n",
        "* Set random_state to equal 42 for this internal method.\n",
        "\n",
        "_**Function specifications:**_\n",
        "* Should take a dataframe\n",
        "* Standardise the features using sklearn's ```StandardScaler```\n",
        "* Convert the quality labels into binary labels\n",
        "* Should fill nan values with zeros\n",
        "* Should return two `tuples` of the form `(X_train, y_train), (X_test, y_test)`."
      ]
    },
    {
      "cell_type": "code",
      "execution_count": null,
      "id": "93ab4297",
      "metadata": {
        "id": "93ab4297"
      },
      "outputs": [],
      "source": [
        "### START FUNCTION\n",
        "def data_preprocess(df):\n",
        "    # your code here\n",
        "    df[\"quality\"] = df[\"quality\"].apply(lambda x: 0 if x <= 4 else 1)\n",
        "    X = df.drop(\"quality\", axis=1)\n",
        "    y = df[\"quality\"]\n",
        "    X = X.fillna(0)\n",
        "    y = y.fillna(0)\n",
        "    X_train, X_test, y_train, y_test = train_test_split(X, y, test_size=0.25, random_state=42)\n",
        "    scaler = preprocessing.StandardScaler().fit(X_train)\n",
        "    X_train = scaler.transform(X_train)\n",
        "    X_test = scaler.transform(X_test)\n",
        "    return (X_train, y_train), (X_test, y_test)\n",
        "\n",
        "### END FUNCTION"
      ]
    },
    {
      "cell_type": "code",
      "execution_count": null,
      "id": "7de1e047",
      "metadata": {
        "id": "7de1e047"
      },
      "outputs": [],
      "source": [
        "(X_train, y_train), (X_test, y_test) = data_preprocess(df)"
      ]
    },
    {
      "cell_type": "code",
      "execution_count": null,
      "id": "4390b67d",
      "metadata": {
        "colab": {
          "base_uri": "https://localhost:8080/"
        },
        "id": "4390b67d",
        "outputId": "9aca30d9-303f-495b-b1a0-663a359c8aa6"
      },
      "outputs": [
        {
          "output_type": "stream",
          "name": "stdout",
          "text": [
            "[[-0.57577022  0.0642786  -0.48227589  1.17471345 -0.08813962 -0.8226624\n",
            "   0.08441988 -0.14688854 -0.36299198  0.12792565  0.04158565  0.25267266]\n",
            " [-0.57577022  1.48520789 -0.72241264  0.55574334 -0.6299766  -0.05760068\n",
            "  -0.69734802  0.63001285  0.16607241 -0.81568336 -0.48466189 -1.00093862]]\n"
          ]
        }
      ],
      "source": [
        "print(X_train[:2])"
      ]
    },
    {
      "cell_type": "markdown",
      "id": "fbb6b66b",
      "metadata": {
        "id": "fbb6b66b"
      },
      "source": [
        "_**Expected outputs:**_\n",
        "```python\n",
        "(X_train, y_train), (X_test, y_test)= data_preprocess(df)\n",
        "print(X_train[:2])\n",
        "print(y_train[:2])\n",
        "print(X_test[:2])\n",
        "print(y_test[:2])\n",
        "\n",
        "\n",
        "[[-0.57136659  0.07127869 -0.48054096  1.17914161 -0.09303318 -0.79974133\n",
        "   0.0830898  -0.15472329 -0.36573452  0.13010447  0.06101473  0.25842195]\n",
        " [-0.57136659  1.50396711 -0.72301571  0.56008035 -0.63948302 -0.05776881\n",
        "  -0.70572997  0.62379657  0.16787589 -0.86828773 -0.47467813 -0.99931317]]\n",
        "\n",
        "[1 0]\n",
        "\n",
        "[[-0.57136659 -0.15493527 -0.54115965  0.90400327 -0.66050032 -0.31460545\n",
        "   0.53384396  0.03990667 -1.35291379 -0.26925241 -0.34075491  1.18076103]\n",
        " [-0.57136659  0.29749266 -1.20796522  2.8987562  -0.80762143 -0.45729248\n",
        "  -0.19863155 -0.22549783 -1.03274754 -0.7185289  -0.87644778  0.25842195]]\n",
        "\n",
        "[1 1]\n",
        "```"
      ]
    },
    {
      "cell_type": "markdown",
      "id": "b52dee68",
      "metadata": {
        "id": "b52dee68"
      },
      "source": [
        "## Question 2 - Model training\n",
        "\n",
        "Now that you have processed your data, let's jump straight into model fitting. Write a function that should:\n",
        "* Instantiate a `SVC` model.\n",
        "* Train the `SVC` model with default parameters.\n",
        "* Return the trained SVC model.\n",
        "\n",
        "_**Function specifications:**_\n",
        "* Should take two numpy `arrays` as input in the form `(X_train, y_train)`.\n",
        "* Should return an sklearn `SVC` model which has a random state of 40 and gamma set to 'auto'.\n",
        "* The returned model should be fitted to the data."
      ]
    },
    {
      "cell_type": "code",
      "execution_count": null,
      "id": "f1235b40",
      "metadata": {
        "id": "f1235b40"
      },
      "outputs": [],
      "source": [
        "### START FUNCTION\n",
        "def train_SVC_model(X_train,y_train):\n",
        "    # your code here\n",
        "    svc = SVC(random_state=40, gamma='auto')\n",
        "    svc.fit(X_train, y_train)\n",
        "    return svc\n",
        "\n",
        "### END FUNCTION"
      ]
    },
    {
      "cell_type": "code",
      "execution_count": null,
      "id": "9d8427bc",
      "metadata": {
        "colab": {
          "base_uri": "https://localhost:8080/"
        },
        "id": "9d8427bc",
        "outputId": "13bb815d-ef94-41ec-82e5-0894bac0790e"
      },
      "outputs": [
        {
          "output_type": "execute_result",
          "data": {
            "text/plain": [
              "array([0, 1])"
            ]
          },
          "metadata": {},
          "execution_count": 26
        }
      ],
      "source": [
        "svc = train_SVC_model(X_train,y_train)\n",
        "svc.classes_"
      ]
    },
    {
      "cell_type": "markdown",
      "id": "7035ff0d",
      "metadata": {
        "id": "7035ff0d"
      },
      "source": [
        "\n",
        "_**Expected outputs:**_\n",
        "\n",
        "```python\n",
        "svc.classes_\n",
        "```\n",
        "```\n",
        "array([0, 1], dtype=int64)\n",
        "```"
      ]
    },
    {
      "cell_type": "markdown",
      "id": "18b2e62e",
      "metadata": {
        "id": "18b2e62e"
      },
      "source": [
        "## Question 3 - Model testing\n",
        "\n",
        "Now that you've trained your model. It's time to test its accuracy, however, we'll be using a custom scoring function for this. Create a function that implements the log loss function:\n",
        "\n",
        "$$\\Large  H(p,q)=  -\\frac{1}{N}\\sum_{i=1}^{N} ylog(\\hat{y}_{i}) + (1- y)log(1 - \\hat{y}_{i})$$\n",
        "\n",
        "_**Function specifications:**_\n",
        "* Should take two numpy `arrays` as input in the form `y_true` and `y_predicted`.\n",
        "* Should return a `float64` for the log loss value rounded to 7 decimal places.\n",
        "\n",
        "_**Hint:**_ the numpy subtract function can be used to perform a calculation across an array of values"
      ]
    },
    {
      "cell_type": "code",
      "execution_count": null,
      "id": "ecd1016e",
      "metadata": {
        "id": "ecd1016e"
      },
      "outputs": [],
      "source": [
        "### START FUNCTION\n",
        "\n",
        "def custom_scoring_function(y_true, y_pred):\n",
        "    # your code here\n",
        "    # Add epsilon to avoid division by zero or log(0)\n",
        "    epsilon = 1e-15\n",
        "    y_pred = np.maximum(epsilon, y_pred)\n",
        "    y_pred = np.minimum(1 - epsilon, y_pred)\n",
        "\n",
        "    # Calculate log loss\n",
        "    log_loss = -np.mean(y_true * np.log(y_pred) + (1 - y_true) * np.log(1 - y_pred))\n",
        "\n",
        "    # Return log loss rounded to 7 decimal places\n",
        "    return round(log_loss, 7)\n",
        "\n",
        "### END FUNCTION"
      ]
    },
    {
      "cell_type": "code",
      "execution_count": null,
      "id": "7c1ca05f",
      "metadata": {
        "colab": {
          "base_uri": "https://localhost:8080/"
        },
        "id": "7c1ca05f",
        "outputId": "62208313-8d4b-4299-9a20-cc69ab8a3893"
      },
      "outputs": [
        {
          "output_type": "stream",
          "name": "stdout",
          "text": [
            "Log Loss value:  1.2540518\n",
            "Accuracy:  0.9637\n"
          ]
        }
      ],
      "source": [
        "y_pred = svc.predict(X_test)\n",
        "print('Log Loss value: ', custom_scoring_function(y_test, y_pred))\n",
        "print('Accuracy: ',round(accuracy_score(y_test,y_pred),4))"
      ]
    },
    {
      "cell_type": "markdown",
      "id": "102ba577",
      "metadata": {
        "id": "102ba577"
      },
      "source": [
        "_**Expected outputs:**_\n",
        "```python\n",
        "print('Log Loss value: ',custom_scoring_function(y_test,y_pred))\n",
        "print('Accuracy: ',round(accuracy_score(y_test,y_pred),4))\n",
        "```\n",
        "\n",
        "> ```\n",
        "Log Loss value:  1.2540518\n",
        "Accuracy:  0.9637\n",
        "```"
      ]
    },
    {
      "cell_type": "markdown",
      "id": "c302d72a",
      "metadata": {
        "id": "c302d72a"
      },
      "source": [
        "## Hyperparameter optimisation\n",
        "\n",
        "### Question 4.1 - Getting model parameters\n",
        "In order to improve the accuracy of our classifier, we have to search for the best possible model (`SVC` in this case) parameters. However, we first have to find out what parameters can be tuned for the given model. Write a function that returns a list of available hyperparameters for a given model.\n",
        "\n",
        "_**Function specifications:**_\n",
        "* Should take in an sklearn model (estimator) object.\n",
        "* Should return a list of parameters for the given model."
      ]
    },
    {
      "cell_type": "code",
      "execution_count": null,
      "id": "97e6db43",
      "metadata": {
        "id": "97e6db43"
      },
      "outputs": [],
      "source": [
        "### START FUNCTION\n",
        "def get_model_hyperparams(model):\n",
        "    # your code here\n",
        "    param_list = list(model.get_params().keys())\n",
        "    return param_list\n",
        "\n",
        "\n",
        "### END FUNCTION"
      ]
    },
    {
      "cell_type": "code",
      "execution_count": null,
      "id": "61609a14",
      "metadata": {
        "colab": {
          "base_uri": "https://localhost:8080/"
        },
        "id": "61609a14",
        "outputId": "bafaf586-4df3-4214-b7b4-53ebeb6d32c7"
      },
      "outputs": [
        {
          "output_type": "execute_result",
          "data": {
            "text/plain": [
              "['C',\n",
              " 'break_ties',\n",
              " 'cache_size',\n",
              " 'class_weight',\n",
              " 'coef0',\n",
              " 'decision_function_shape',\n",
              " 'degree',\n",
              " 'gamma',\n",
              " 'kernel',\n",
              " 'max_iter',\n",
              " 'probability',\n",
              " 'random_state',\n",
              " 'shrinking',\n",
              " 'tol',\n",
              " 'verbose']"
            ]
          },
          "metadata": {},
          "execution_count": 30
        }
      ],
      "source": [
        "get_model_hyperparams(svc)"
      ]
    },
    {
      "cell_type": "markdown",
      "id": "d36b731a",
      "metadata": {
        "id": "d36b731a"
      },
      "source": [
        "_**Expected outputs:**_\n",
        "\n",
        "```python\n",
        "get_model_hyperparams(SVC)\n",
        "```\n",
        "\n",
        "> ```\n",
        "['C',\n",
        " 'cache_size',\n",
        " 'class_weight',\n",
        " 'coef0',\n",
        " .\n",
        " .\n",
        " .\n",
        " 'shrinking',\n",
        " 'tol',\n",
        " 'verbose']\n",
        "```"
      ]
    },
    {
      "cell_type": "markdown",
      "id": "55616b10",
      "metadata": {
        "id": "55616b10"
      },
      "source": [
        "### Question 4.2 - Hyperparameter search\n",
        "The next step is define a set of `SVC` hyperparameters to search over. Write a function that searches for optimal parameters using the given dictionary of hyperparameters:\n",
        "\n",
        "- C_list = [0.1, 1, 10]\n",
        "- {C: 0.1, 1, 10}\n",
        "- gamma_list = [0.01, 0.1, 1]\n",
        "- {gamma: 0.01, 0.1, 1}\n",
        "- D = {'C':[0.1, 1, 10], 'gamma': [0.01, 0.1, 1]}\n",
        "\n",
        "and using `custom_scoring_function` from **Question 3** above as a custom scoring function (_**Hint**_: Have a look at at the `make_scorer` object in sklearn `metrics`).\n",
        "\n",
        "_**Function specifications:**_\n",
        "* Should define a parameter grid using the given list of `SVC` hyperparameters\n",
        "* Should return an sklearn `GridSearchCV` object with a cross validation of 5.\n",
        "* Should return a value rounded to 4 decimal places."
      ]
    },
    {
      "cell_type": "code",
      "execution_count": null,
      "id": "624df1be",
      "metadata": {
        "id": "624df1be"
      },
      "outputs": [],
      "source": [
        "### START FUNCTION\n",
        "\n",
        "from sklearn.metrics import make_scorer\n",
        "\n",
        "def tune_SVC_model(X_train, y_train):\n",
        "    # your code here\n",
        "    param_grid = {\n",
        "        'C': [0.1, 1, 10],\n",
        "        'gamma': [0.01, 0.1, 1]\n",
        "    }\n",
        "\n",
        "    # Define the custom scoring function\n",
        "    def custom_scoring_function(y_true, y_pred):\n",
        "        epsilon = 1e-15\n",
        "        y_pred = np.maximum(epsilon, y_pred)\n",
        "        y_pred = np.minimum(1 - epsilon, y_pred)\n",
        "        return -np.mean(y_true * np.log(y_pred) + (1 - y_true) * np.log(1 - y_pred))\n",
        "\n",
        "    custom_scorer = make_scorer(custom_scoring_function, greater_is_better=False)\n",
        "\n",
        "    # Instantiate the SVC model\n",
        "    svc = SVC(random_state=40)\n",
        "\n",
        "    # Set up GridSearchCV\n",
        "    grid_search = GridSearchCV(estimator=svc, param_grid=param_grid, scoring=custom_scorer, cv=5)\n",
        "\n",
        "    # Fit the GridSearchCV to the training data\n",
        "    grid_search.fit(X_train, y_train)\n",
        "\n",
        "    return grid_search\n",
        "\n",
        "### END FUNCTION"
      ]
    },
    {
      "cell_type": "code",
      "execution_count": null,
      "id": "7b70eadc",
      "metadata": {
        "colab": {
          "base_uri": "https://localhost:8080/"
        },
        "id": "7b70eadc",
        "outputId": "bb336052-4782-4e7b-aac3-3e4031a1602c"
      },
      "outputs": [
        {
          "output_type": "stream",
          "name": "stdout",
          "text": [
            "Log Loss value:  1.2115421\n",
            "Accuracy:  0.9649\n"
          ]
        }
      ],
      "source": [
        "svc_tuned = tune_SVC_model(X_train, y_train)\n",
        "\n",
        "y_pred = svc_tuned.predict(X_test)\n",
        "print('Log Loss value: ',custom_scoring_function(y_test,y_pred))\n",
        "print('Accuracy: ',round(accuracy_score(y_test,y_pred),4))"
      ]
    },
    {
      "cell_type": "markdown",
      "id": "28a40a4e",
      "metadata": {
        "id": "28a40a4e"
      },
      "source": [
        "_**Expected outputs:**_\n",
        "```python\n",
        "print('Log Loss value: ',custom_scoring_function(y_test,y_pred))\n",
        "print('Accuracy: ',round(accuracy_score(y_test,y_pred),4))\n",
        "```\n",
        "\n",
        "> ```\n",
        "Log Loss value:  1.2115421\n",
        "Accuracy:  0.9649\n",
        "```"
      ]
    },
    {
      "cell_type": "markdown",
      "id": "be137501",
      "metadata": {
        "id": "be137501"
      },
      "source": [
        "### Question 4.3 - Optimal model parameters\n",
        "Write a function that returns the best hyperperameters for a given model (i.e. the `GridSearchCV`).\n",
        "\n",
        "_**Function specifications:**_\n",
        "* Should take in an sklearn GridSearchCV object.\n",
        "* Should return a dictionary of optimal parameters for the given model."
      ]
    },
    {
      "cell_type": "code",
      "execution_count": null,
      "id": "7d32de7f",
      "metadata": {
        "id": "7d32de7f"
      },
      "outputs": [],
      "source": [
        "### START FUNCTION\n",
        "# function that returns best params\n",
        "def get_best_params(model):\n",
        "    # your code here\n",
        "    model_params = model.best_params_\n",
        "    return model_params\n",
        "\n",
        "### END FUNCTION"
      ]
    },
    {
      "cell_type": "code",
      "execution_count": null,
      "id": "701e0d61",
      "metadata": {
        "colab": {
          "base_uri": "https://localhost:8080/"
        },
        "id": "701e0d61",
        "outputId": "102debcb-aa2a-47d7-f2ca-d5f82e8dcfbf"
      },
      "outputs": [
        {
          "output_type": "execute_result",
          "data": {
            "text/plain": [
              "{'C': 1, 'gamma': 1}"
            ]
          },
          "metadata": {},
          "execution_count": 34
        }
      ],
      "source": [
        "get_best_params(svc_tuned)"
      ]
    },
    {
      "cell_type": "markdown",
      "id": "f9fc18a4",
      "metadata": {
        "id": "f9fc18a4"
      },
      "source": [
        "_**Expected outputs:**_\n",
        "```python\n",
        "get_best_params(svc_tuned)\n",
        "```\n",
        "\n",
        "> ```\n",
        "{'C': 1, 'gamma': 1}\n",
        "```"
      ]
    },
    {
      "cell_type": "markdown",
      "id": "26fd094b-0fee-46f1-a4b8-73766813c42b",
      "metadata": {
        "id": "26fd094b-0fee-46f1-a4b8-73766813c42b",
        "tags": []
      },
      "source": [
        "#  \n",
        "\n",
        "<div align=\"center\" style=\" font-size: 80%; text-align: center; margin: 0 auto\">\n",
        "<img src=\"https://raw.githubusercontent.com/Explore-AI/Pictures/master/ExploreAI_logos/EAI_Blue_Dark.png\"  style=\"width:200px\";/>\n",
        "</div>"
      ]
    }
  ],
  "metadata": {
    "colab": {
      "provenance": [],
      "include_colab_link": true
    },
    "kernelspec": {
      "display_name": "Python 3 (ipykernel)",
      "language": "python",
      "name": "python3"
    },
    "language_info": {
      "codemirror_mode": {
        "name": "ipython",
        "version": 3
      },
      "file_extension": ".py",
      "mimetype": "text/x-python",
      "name": "python",
      "nbconvert_exporter": "python",
      "pygments_lexer": "ipython3",
      "version": "3.11.4"
    }
  },
  "nbformat": 4,
  "nbformat_minor": 5
}